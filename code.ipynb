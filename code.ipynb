{
 "cells": [
  {
   "cell_type": "markdown",
   "id": "82f1a7a1",
   "metadata": {},
   "source": [
    "# Data Preprocessing: "
   ]
  },
  {
   "cell_type": "code",
   "execution_count": 247,
   "id": "e8d85a05",
   "metadata": {},
   "outputs": [],
   "source": [
    "import os\n",
    "import numpy as np"
   ]
  },
  {
   "cell_type": "code",
   "execution_count": 248,
   "id": "def5f3a7",
   "metadata": {},
   "outputs": [],
   "source": [
    "import cv2"
   ]
  },
  {
   "cell_type": "code",
   "execution_count": 249,
   "id": "6559fba5",
   "metadata": {},
   "outputs": [],
   "source": [
    "male = 0\n",
    "female = 0"
   ]
  },
  {
   "cell_type": "code",
   "execution_count": 250,
   "id": "2d4b363d",
   "metadata": {},
   "outputs": [],
   "source": [
    "directories = [\"E:/fp-dataset/SOCOFing/Real\",\"E:/fp-dataset/SOCOFing/Altered/Altered-Easy\",\"E:/fp-dataset/SOCOFing/Altered/Altered-Hard\",\"E:/fp-dataset/SOCOFing/Altered/Altered-Medium\"]\n",
    "for directory in directories:\n",
    "    for filename in os.listdir(directory):\n",
    "        if filename[:-4].find('M')>-1:\n",
    "            male += 1\n",
    "        else:\n",
    "            female += 1"
   ]
  },
  {
   "cell_type": "code",
   "execution_count": 251,
   "id": "fa561baf",
   "metadata": {},
   "outputs": [
    {
     "name": "stdout",
     "output_type": "stream",
     "text": [
      "44203\n",
      "11067\n"
     ]
    }
   ],
   "source": [
    "print(male)\n",
    "print(female)"
   ]
  },
  {
   "cell_type": "code",
   "execution_count": null,
   "id": "40fef548",
   "metadata": {},
   "outputs": [],
   "source": []
  },
  {
   "cell_type": "code",
   "execution_count": 252,
   "id": "f14ad7c0",
   "metadata": {},
   "outputs": [],
   "source": [
    "male=0\n",
    "female=0"
   ]
  },
  {
   "cell_type": "code",
   "execution_count": 253,
   "id": "4a098f0a",
   "metadata": {},
   "outputs": [],
   "source": [
    "maleDataset = []\n",
    "femaleDataset = []"
   ]
  },
  {
   "cell_type": "code",
   "execution_count": 254,
   "id": "7bce5ad5",
   "metadata": {},
   "outputs": [],
   "source": [
    "def preprocess(directory,filename):\n",
    "    global male,female\n",
    "    gender = 0 if filename[:-4].find('M')>-1 else 1\n",
    "    image = cv2.imread(os.path.join(directory,filename),cv2.IMREAD_GRAYSCALE)\n",
    "    #cvt to binary\n",
    "    image = cv2.threshold(image,128,255,cv2.THRESH_BINARY)[1]\n",
    "    #resize\n",
    "    image = cv2.resize(image,(96,103),interpolation=cv2.INTER_AREA)\n",
    "    \n",
    "    if gender==0:\n",
    "        if male>=11000:\n",
    "            return\n",
    "        else:\n",
    "            maleDataset.append((image,gender))\n",
    "            male += 1\n",
    "    \n",
    "    if gender==1: \n",
    "        if female>=11000:\n",
    "            return\n",
    "        else:\n",
    "            femaleDataset.append((image,gender))\n",
    "            female += 1\n",
    "    \n",
    "    \n",
    "    \n",
    "    \n",
    "    "
   ]
  },
  {
   "cell_type": "code",
   "execution_count": 255,
   "id": "c3f2f049",
   "metadata": {},
   "outputs": [],
   "source": [
    "#preprocess(\"E:/fp-dataset/SOCOFing/Real\",\"31__F_Right_index_finger.BMP\")"
   ]
  },
  {
   "cell_type": "code",
   "execution_count": 256,
   "id": "94f7f9f0",
   "metadata": {},
   "outputs": [],
   "source": [
    "#print(dataset[0])"
   ]
  },
  {
   "cell_type": "code",
   "execution_count": 257,
   "id": "da29acd3",
   "metadata": {},
   "outputs": [],
   "source": [
    "directories = [\"E:/fp-dataset/SOCOFing/Real\",\"E:/fp-dataset/SOCOFing/Altered/Altered-Easy\",\"E:/fp-dataset/SOCOFing/Altered/Altered-Hard\",\"E:/fp-dataset/SOCOFing/Altered/Altered-Medium\"]\n",
    "for directory in directories:\n",
    "    for filename in os.listdir(directory):\n",
    "        preprocess(directory,filename)"
   ]
  },
  {
   "cell_type": "code",
   "execution_count": 260,
   "id": "a7017ea8",
   "metadata": {},
   "outputs": [
    {
     "name": "stdout",
     "output_type": "stream",
     "text": [
      "0\n"
     ]
    }
   ],
   "source": [
    "print(maleDataset[600][1])"
   ]
  },
  {
   "cell_type": "code",
   "execution_count": 261,
   "id": "5854c3a3",
   "metadata": {},
   "outputs": [
    {
     "name": "stdout",
     "output_type": "stream",
     "text": [
      "11000 11000\n"
     ]
    }
   ],
   "source": [
    "print(male,female)"
   ]
  },
  {
   "cell_type": "code",
   "execution_count": 262,
   "id": "34c852df",
   "metadata": {},
   "outputs": [],
   "source": []
  },
  {
   "cell_type": "code",
   "execution_count": 263,
   "id": "29d3396f",
   "metadata": {},
   "outputs": [],
   "source": [
    "import matplotlib.pyplot as plt"
   ]
  },
  {
   "cell_type": "code",
   "execution_count": 270,
   "id": "c4df72f2",
   "metadata": {},
   "outputs": [],
   "source": [
    "maleTrainData = maleDataset[:10000]\n",
    "maleTestData = maleDataset[10000:]\n",
    "femaleTrainData = femaleDataset[:10000]\n",
    "femaleTestData = femaleDataset[10000:]"
   ]
  },
  {
   "cell_type": "code",
   "execution_count": null,
   "id": "35f9174d",
   "metadata": {},
   "outputs": [],
   "source": []
  },
  {
   "cell_type": "code",
   "execution_count": 271,
   "id": "02cc7bd8",
   "metadata": {},
   "outputs": [],
   "source": [
    "trainDataset = maleTrainData + femaleTrainData\n",
    "testDataset = maleTestData + femaleTestData"
   ]
  },
  {
   "cell_type": "code",
   "execution_count": 276,
   "id": "5413af17",
   "metadata": {},
   "outputs": [],
   "source": [
    "import random\n",
    "random.shuffle(trainDataset)\n",
    "random.shuffle(testDataset)"
   ]
  },
  {
   "cell_type": "code",
   "execution_count": 279,
   "id": "e168ef4b",
   "metadata": {},
   "outputs": [],
   "source": []
  },
  {
   "cell_type": "code",
   "execution_count": 283,
   "id": "59761733",
   "metadata": {},
   "outputs": [],
   "source": [
    "testX = []\n",
    "testY = []\n",
    "trainX = []\n",
    "trainY = []"
   ]
  },
  {
   "cell_type": "code",
   "execution_count": 284,
   "id": "2e6ce56f",
   "metadata": {},
   "outputs": [],
   "source": [
    "for (feature,label) in trainDataset:\n",
    "    trainX.append(feature)\n",
    "    trainY.append(label)\n",
    "    \n",
    "for (feature,label) in testDataset:\n",
    "    testX.append(feature)\n",
    "    testY.append(label)"
   ]
  },
  {
   "cell_type": "code",
   "execution_count": 351,
   "id": "689a4093",
   "metadata": {},
   "outputs": [
    {
     "data": {
      "text/plain": [
       "20000"
      ]
     },
     "execution_count": 351,
     "metadata": {},
     "output_type": "execute_result"
    }
   ],
   "source": [
    "len(trainY)"
   ]
  },
  {
   "cell_type": "code",
   "execution_count": 352,
   "id": "a9ba7b2b",
   "metadata": {},
   "outputs": [],
   "source": [
    "testX = np.stack(testX,axis=0)\n",
    "testY = np.stack(testY,axis=0)\n",
    "trainX = np.stack(trainX,axis=0)\n",
    "trainY = np.stack(trainY,axis=0)"
   ]
  },
  {
   "cell_type": "code",
   "execution_count": null,
   "id": "d2510674",
   "metadata": {},
   "outputs": [],
   "source": []
  },
  {
   "cell_type": "markdown",
   "id": "a6cd9d4d",
   "metadata": {},
   "source": [
    "# CNN: "
   ]
  },
  {
   "cell_type": "code",
   "execution_count": 353,
   "id": "3e43c0eb",
   "metadata": {},
   "outputs": [],
   "source": [
    "from keras.models import Sequential\n",
    "from keras.layers import Dense, Conv2D, MaxPooling2D, Flatten, Dropout"
   ]
  },
  {
   "cell_type": "code",
   "execution_count": 372,
   "id": "34ee1dc7",
   "metadata": {},
   "outputs": [],
   "source": [
    "model = Sequential([\n",
    "    Conv2D(32, (3,3), activation='relu', input_shape=(103,96,1)),\n",
    "    MaxPooling2D((2,2)),\n",
    "    Conv2D(32, (3,3), activation='relu'),\n",
    "    MaxPooling2D((2,2)),\n",
    "    \n",
    "    Flatten(),\n",
    "    Dense(64, activation='relu'),\n",
    "    Dropout(0.5),\n",
    "    Dense(16, activation='relu'),\n",
    "    Dropout(0.5),\n",
    "    Dense(4, activation='relu'),\n",
    "    Dense(1, activation='sigmoid')\n",
    "])"
   ]
  },
  {
   "cell_type": "code",
   "execution_count": 373,
   "id": "4dc6f709",
   "metadata": {},
   "outputs": [],
   "source": [
    "model.compile(loss='binary_crossentropy', optimizer='adam', metrics=['accuracy'])"
   ]
  },
  {
   "cell_type": "code",
   "execution_count": 374,
   "id": "f18ac601",
   "metadata": {},
   "outputs": [],
   "source": [
    "loss_history = []\n",
    "val_loss_history = []\n",
    "accuracy_history = []\n",
    "val_accuracy_history = []"
   ]
  },
  {
   "cell_type": "code",
   "execution_count": 397,
   "id": "aaef761d",
   "metadata": {
    "scrolled": false
   },
   "outputs": [
    {
     "name": "stdout",
     "output_type": "stream",
     "text": [
      "Epoch 1/2\n",
      "625/625 [==============================] - 101s 161ms/step - loss: 0.2230 - accuracy: 0.9064 - val_loss: 0.2686 - val_accuracy: 0.8900\n",
      "Epoch 2/2\n",
      "625/625 [==============================] - 106s 169ms/step - loss: 0.1917 - accuracy: 0.9227 - val_loss: 0.2735 - val_accuracy: 0.8945\n"
     ]
    }
   ],
   "source": [
    "history = model.fit(trainX,trainY, validation_data=(testX,testY), epochs=2, batch_size=32)"
   ]
  },
  {
   "cell_type": "code",
   "execution_count": 398,
   "id": "f3fa5b68",
   "metadata": {},
   "outputs": [
    {
     "name": "stdout",
     "output_type": "stream",
     "text": [
      "[0.22297053039073944, 0.1917111575603485]\n"
     ]
    }
   ],
   "source": [
    "print(history.history['loss'])"
   ]
  },
  {
   "cell_type": "code",
   "execution_count": 399,
   "id": "1e2e48cd",
   "metadata": {},
   "outputs": [],
   "source": [
    "for key in history.history.keys():\n",
    "    if key=='loss':\n",
    "        loss_history = loss_history + history.history['loss']\n",
    "    elif key=='accuracy':\n",
    "        accuracy_history = accuracy_history + history.history['accuracy']\n",
    "    elif key=='val_loss':\n",
    "        val_loss_history = val_loss_history + history.history['val_loss']\n",
    "    elif key=='val_accuracy':\n",
    "        val_accuracy_history = val_accuracy_history + history.history['val_accuracy']"
   ]
  },
  {
   "cell_type": "code",
   "execution_count": 400,
   "id": "0b18d8b6",
   "metadata": {},
   "outputs": [
    {
     "name": "stdout",
     "output_type": "stream",
     "text": [
      "[0.7211240530014038, 0.6154020428657532, 0.5529557466506958, 0.4901670813560486, 0.432483434677124, 0.38425853848457336, 0.3480980694293976, 0.30881181359291077, 0.2774503529071808, 0.2476842999458313, 0.22297053039073944, 0.1917111575603485]\n",
      "[0.5802000164985657, 0.6409500241279602, 0.6938499808311462, 0.7440999746322632, 0.7791000008583069, 0.8097000122070312, 0.8341000080108643, 0.857450008392334, 0.8754500150680542, 0.8900499939918518, 0.9064499735832214, 0.9226999878883362]\n",
      "[0.6249241232872009, 0.5822479724884033, 0.4977160692214966, 0.44876566529273987, 0.4241522252559662, 0.38990506529808044, 0.3431505560874939, 0.3440069854259491, 0.3271382451057434, 0.3144727647304535, 0.2685549855232239, 0.2734556496143341]\n",
      "[0.6209999918937683, 0.6545000076293945, 0.734499990940094, 0.7609999775886536, 0.781000018119812, 0.8069999814033508, 0.8410000205039978, 0.8460000157356262, 0.8550000190734863, 0.8725000023841858, 0.8899999856948853, 0.8945000171661377]\n"
     ]
    }
   ],
   "source": [
    "print(loss_history)\n",
    "print(accuracy_history)\n",
    "print(val_loss_history)\n",
    "print(val_accuracy_history)"
   ]
  },
  {
   "cell_type": "code",
   "execution_count": 401,
   "id": "2dcc2075",
   "metadata": {},
   "outputs": [
    {
     "data": {
      "image/png": "[encoded data removed]",
      "text/plain": [
       "<Figure size 432x288 with 1 Axes>"
      ]
     },
     "metadata": {
      "needs_background": "light"
     },
     "output_type": "display_data"
    }
   ],
   "source": [
    "# summarise performance in context of accuracy\n",
    "plt.plot(accuracy_history)\n",
    "plt.plot(val_accuracy_history)\n",
    "plt.title('model accuracy')\n",
    "plt.ylabel('accuracy')\n",
    "plt.xlabel('epoch')\n",
    "plt.legend(['train','test'],loc='upper left')\n",
    "plt.show()"
   ]
  },
  {
   "cell_type": "code",
   "execution_count": 402,
   "id": "e85f538e",
   "metadata": {},
   "outputs": [
    {
     "data": {
      "image/png": "[encoded data removed]",
      "text/plain": [
       "<Figure size 432x288 with 1 Axes>"
      ]
     },
     "metadata": {
      "needs_background": "light"
     },
     "output_type": "display_data"
    }
   ],
   "source": [
    "# summarise performance in context of loss\n",
    "plt.plot(loss_history)\n",
    "plt.plot(val_loss_history)\n",
    "plt.title('model loss')\n",
    "plt.ylabel('loss')\n",
    "plt.xlabel('epoch')\n",
    "plt.legend(['train','test'],loc='upper left')\n",
    "plt.show()"
   ]
  },
  {
   "cell_type": "code",
   "execution_count": 404,
   "id": "56181b9b",
   "metadata": {},
   "outputs": [
    {
     "data": {
      "image/png": "[encoded data removed]",
      "text/plain": [
       "<Figure size 432x288 with 1 Axes>"
      ]
     },
     "metadata": {
      "needs_background": "light"
     },
     "output_type": "display_data"
    }
   ],
   "source": [
    "# summarise performance : acc vs loss - training phase\n",
    "plt.plot(accuracy_history,loss_history)\n",
    "plt.plot(val_accuracy_history,val_loss_history)\n",
    "plt.title('accuracy vs loss')\n",
    "plt.ylabel('loss')\n",
    "plt.xlabel('accuracy')\n",
    "plt.legend(['train','test'],loc='upper left')\n",
    "plt.show()"
   ]
  },
  {
   "cell_type": "code",
   "execution_count": 320,
   "id": "b00b6e3b",
   "metadata": {},
   "outputs": [
    {
     "name": "stdout",
     "output_type": "stream",
     "text": [
      "63/63 [==============================] - 4s 64ms/step - loss: 0.3727 - accuracy: 0.8570\n"
     ]
    },
    {
     "data": {
      "text/plain": [
       "[0.3726825416088104, 0.8569999933242798]"
      ]
     },
     "execution_count": 320,
     "metadata": {},
     "output_type": "execute_result"
    }
   ],
   "source": [
    "#model.evaluate(testX,testY)"
   ]
  },
  {
   "cell_type": "code",
   "execution_count": 321,
   "id": "66035fa0",
   "metadata": {},
   "outputs": [
    {
     "name": "stdout",
     "output_type": "stream",
     "text": [
      "00101110100111010000010010011010100011000100000000111110010110111011100010110111001000101010010111000101100011101101001011100111110100000011100101000011000001111100110001011011001010110010100110001010110011111001101110001001001010111110110100111010010001010110100011000000000000000110100000011100101011110110001111101011011100111011001110010011111100001101101000111010111010000000111010111010011001011000001100111011011000011010111010111110011111000010101011100010011111110001110011100010011010111000001011110111011001011100101111101001111010011100001101100101110011001010111110110101111100100111111100001000111001110010110100001001101000000001001100111000001101110001010010011001101001010111100111111011111000100000010101100111100110111111010101000111111001101101001011100110101010101110111001111111001111111110101010111110001101111110011010001111011001001101011101010111110101101010100111111011011100001000000000010100000000011011110000010010001101110110000100100000111110010101101000100010000111110100100000100100010010011101111110101011100011100111100011000011010000011100101001000111100001110100010110000011111000110111100010100001010010011000110000010110001010000100000001101101010000000100001011001100110010001000101110110000010011100110001011110100000100010000001111100100010101111100110000010111011110111101001100101110111101111100111000110101101000001011100011010110011011001100000101101100000110111100011001011010011111101011101000110111100100110101110100000100000111010011100110001000100111000011000100010101010011101011000010100111010101100110001110111101101100010111100110101000101010110101111110011000011001100010100000010101101101111011010011110111010100110110110010000010111011101111010010110111001010101110010001001100111011101011001000011010101100101000001101010010101111000110100110010101110111010100010001110110000011100100011110011100010010010110111100000010000110101010101000010010100111001001001111010100100111001000001101001001101110010000011111010011000110110110100001110101"
     ]
    }
   ],
   "source": [
    "for image,gender in testDataset:\n",
    "    print(gender,end='')"
   ]
  },
  {
   "cell_type": "code",
   "execution_count": 419,
   "id": "61f558f0",
   "metadata": {},
   "outputs": [
    {
     "name": "stdout",
     "output_type": "stream",
     "text": [
      "63/63 [==============================] - 2s 35ms/step\n"
     ]
    }
   ],
   "source": [
    "actualY = testY\n",
    "predictOutput = model.predict(testX).round().astype(int)"
   ]
  },
  {
   "cell_type": "code",
   "execution_count": 434,
   "id": "90a1e899",
   "metadata": {},
   "outputs": [
    {
     "name": "stdout",
     "output_type": "stream",
     "text": [
      "[0 0 1 ... 1 0 1] [0 0 1 ... 1 0 1]\n"
     ]
    }
   ],
   "source": [
    "predictedY = []\n",
    "for array in predictOutput:\n",
    "    predictedY.append(array[0])\n",
    "predictedY = np.stack(predictedY,axis=0)\n",
    "print(predictedY,actualY)"
   ]
  },
  {
   "cell_type": "code",
   "execution_count": 444,
   "id": "06ef6469",
   "metadata": {},
   "outputs": [
    {
     "name": "stdout",
     "output_type": "stream",
     "text": [
      "correct males=96\n"
     ]
    }
   ],
   "source": [
    "i=0\n",
    "count = 0\n",
    "for i in range(len(actualY)):\n",
    "    if (actualY[i]==1 and predictedY[i]==0):\n",
    "        count += 1\n",
    "print(f'correct males={count}')"
   ]
  },
  {
   "cell_type": "code",
   "execution_count": 435,
   "id": "9193dff9",
   "metadata": {},
   "outputs": [
    {
     "name": "stdout",
     "output_type": "stream",
     "text": [
      "[[885 115]\n",
      " [ 96 904]]\n"
     ]
    }
   ],
   "source": [
    "from sklearn.metrics import confusion_matrix\n",
    "#Generate the confusion matrix\n",
    "cf_matrix = confusion_matrix(actualY, predictedY)\n",
    "print(cf_matrix)"
   ]
  },
  {
   "cell_type": "code",
   "execution_count": 445,
   "id": "4df90a9b",
   "metadata": {},
   "outputs": [
    {
     "data": {
      "image/png": "[encoded data removed]",
      "text/plain": [
       "<Figure size 432x288 with 2 Axes>"
      ]
     },
     "metadata": {
      "needs_background": "light"
     },
     "output_type": "display_data"
    }
   ],
   "source": [
    "import seaborn as sns\n",
    "ax = sns.heatmap(cf_matrix/np.sum(cf_matrix),fmt='.2%', annot=True, cmap='Blues')\n",
    "ax.set_title('Seaborn Confusion Matrix with labels\\n\\n');\n",
    "ax.set_xlabel('Predicted Values')\n",
    "ax.set_ylabel('Actual Values ');\n",
    "## Ticket labels - List must be in alphabetical order\n",
    "ax.xaxis.set_ticklabels(['Male','Female'])\n",
    "ax.yaxis.set_ticklabels(['Male','Female'])\n",
    "## Display the visualization of the Confusion Matrix.\n",
    "plt.show()"
   ]
  },
  {
   "cell_type": "code",
   "execution_count": 450,
   "id": "c7771d0e",
   "metadata": {},
   "outputs": [
    {
     "name": "stdout",
     "output_type": "stream",
     "text": [
      "Collecting scikit-plot\n",
      "  Using cached scikit_plot-0.3.7-py3-none-any.whl (33 kB)\n",
      "Requirement already satisfied: scipy>=0.9 in c:\\users\\raunak\\appdata\\local\\programs\\python\\python310\\lib\\site-packages (from scikit-plot) (1.9.0)\n",
      "Requirement already satisfied: joblib>=0.10 in c:\\users\\raunak\\appdata\\local\\programs\\python\\python310\\lib\\site-packages (from scikit-plot) (1.1.0)\n",
      "Requirement already satisfied: matplotlib>=1.4.0 in c:\\users\\raunak\\appdata\\local\\programs\\python\\python310\\lib\\site-packages (from scikit-plot) (3.5.3)\n",
      "Requirement already satisfied: scikit-learn>=0.18 in c:\\users\\raunak\\appdata\\local\\programs\\python\\python310\\lib\\site-packages (from scikit-plot) (1.1.2)\n",
      "Requirement already satisfied: cycler>=0.10 in c:\\users\\raunak\\appdata\\local\\programs\\python\\python310\\lib\\site-packages (from matplotlib>=1.4.0->scikit-plot) (0.11.0)\n",
      "Requirement already satisfied: pyparsing>=2.2.1 in c:\\users\\raunak\\appdata\\local\\programs\\python\\python310\\lib\\site-packages (from matplotlib>=1.4.0->scikit-plot) (3.0.9)\n",
      "Requirement already satisfied: python-dateutil>=2.7 in c:\\users\\raunak\\appdata\\local\\programs\\python\\python310\\lib\\site-packages (from matplotlib>=1.4.0->scikit-plot) (2.8.2)\n",
      "Requirement already satisfied: packaging>=20.0 in c:\\users\\raunak\\appdata\\local\\programs\\python\\python310\\lib\\site-packages (from matplotlib>=1.4.0->scikit-plot) (21.3)\n",
      "Requirement already satisfied: pillow>=6.2.0 in c:\\users\\raunak\\appdata\\local\\programs\\python\\python310\\lib\\site-packages (from matplotlib>=1.4.0->scikit-plot) (9.2.0)\n",
      "Requirement already satisfied: numpy>=1.17 in c:\\users\\raunak\\appdata\\local\\programs\\python\\python310\\lib\\site-packages (from matplotlib>=1.4.0->scikit-plot) (1.23.2)\n",
      "Requirement already satisfied: kiwisolver>=1.0.1 in c:\\users\\raunak\\appdata\\local\\programs\\python\\python310\\lib\\site-packages (from matplotlib>=1.4.0->scikit-plot) (1.4.4)\n",
      "Requirement already satisfied: fonttools>=4.22.0 in c:\\users\\raunak\\appdata\\local\\programs\\python\\python310\\lib\\site-packages (from matplotlib>=1.4.0->scikit-plot) (4.34.4)\n",
      "Requirement already satisfied: six>=1.5 in c:\\users\\raunak\\appdata\\local\\programs\\python\\python310\\lib\\site-packages (from python-dateutil>=2.7->matplotlib>=1.4.0->scikit-plot) (1.16.0)\n",
      "Requirement already satisfied: threadpoolctl>=2.0.0 in c:\\users\\raunak\\appdata\\local\\programs\\python\\python310\\lib\\site-packages (from scikit-learn>=0.18->scikit-plot) (3.1.0)\n",
      "Installing collected packages: scikit-plot\n",
      "Successfully installed scikit-plot-0.3.7\n",
      "Note: you may need to restart the kernel to use updated packages.\n"
     ]
    },
    {
     "name": "stderr",
     "output_type": "stream",
     "text": [
      "WARNING: You are using pip version 21.2.4; however, version 24.0 is available.\n",
      "You should consider upgrading via the 'C:\\Users\\RAUNAK\\AppData\\Local\\Programs\\Python\\Python310\\python.exe -m pip install --upgrade pip' command.\n"
     ]
    }
   ],
   "source": [
    "pip install scikit-plot"
   ]
  },
  {
   "cell_type": "code",
   "execution_count": 454,
   "id": "d99a5d43",
   "metadata": {},
   "outputs": [
    {
     "data": {
      "image/png": "[encoded data removed]",
      "text/plain": [
       "<Figure size 432x288 with 1 Axes>"
      ]
     },
     "metadata": {
      "needs_background": "light"
     },
     "output_type": "display_data"
    }
   ],
   "source": [
    "from sklearn.metrics import roc_curve, RocCurveDisplay\n",
    "\n",
    "# Compute ROC curve\n",
    "fpr, tpr, _ = roc_curve(actualY, predictedY)\n",
    "\n",
    "# Create RocCurveDisplay object\n",
    "roc_display = RocCurveDisplay(fpr=fpr, tpr=tpr)\n",
    "\n",
    "# Plot ROC curve\n",
    "roc_display.plot()\n",
    "\n",
    "# Add labels and show the plot\n",
    "plt.xlabel('False Positive Rate')\n",
    "plt.ylabel('True Positive Rate')\n",
    "plt.title('ROC Curve')\n",
    "plt.show()\n"
   ]
  },
  {
   "cell_type": "code",
   "execution_count": 455,
   "id": "b72bccf1",
   "metadata": {},
   "outputs": [
    {
     "name": "stdout",
     "output_type": "stream",
     "text": [
      "Model: \"sequential_2\"\n",
      "_________________________________________________________________\n",
      " Layer (type)                Output Shape              Param #   \n",
      "=================================================================\n",
      " conv2d_4 (Conv2D)           (None, 101, 94, 32)       320       \n",
      "                                                                 \n",
      " max_pooling2d_4 (MaxPooling  (None, 50, 47, 32)       0         \n",
      " 2D)                                                             \n",
      "                                                                 \n",
      " conv2d_5 (Conv2D)           (None, 48, 45, 32)        9248      \n",
      "                                                                 \n",
      " max_pooling2d_5 (MaxPooling  (None, 24, 22, 32)       0         \n",
      " 2D)                                                             \n",
      "                                                                 \n",
      " flatten_2 (Flatten)         (None, 16896)             0         \n",
      "                                                                 \n",
      " dense_8 (Dense)             (None, 64)                1081408   \n",
      "                                                                 \n",
      " dropout_4 (Dropout)         (None, 64)                0         \n",
      "                                                                 \n",
      " dense_9 (Dense)             (None, 16)                1040      \n",
      "                                                                 \n",
      " dropout_5 (Dropout)         (None, 16)                0         \n",
      "                                                                 \n",
      " dense_10 (Dense)            (None, 4)                 68        \n",
      "                                                                 \n",
      " dense_11 (Dense)            (None, 1)                 5         \n",
      "                                                                 \n",
      "=================================================================\n",
      "Total params: 1,092,089\n",
      "Trainable params: 1,092,089\n",
      "Non-trainable params: 0\n",
      "_________________________________________________________________\n"
     ]
    }
   ],
   "source": [
    "model.summary()"
   ]
  },
  {
   "cell_type": "code",
   "execution_count": null,
   "id": "74f8d4e9",
   "metadata": {},
   "outputs": [],
   "source": []
  },
  {
   "cell_type": "code",
   "execution_count": 344,
   "id": "6222d4c5",
   "metadata": {},
   "outputs": [],
   "source": [
    "from copy import deepcopy"
   ]
  },
  {
   "cell_type": "code",
   "execution_count": 345,
   "id": "ff6dcb8c",
   "metadata": {},
   "outputs": [],
   "source": [
    "newTestDataset = deepcopy(testDataset)"
   ]
  },
  {
   "cell_type": "code",
   "execution_count": 346,
   "id": "f5dcec2d",
   "metadata": {},
   "outputs": [],
   "source": [
    "newmaleTestDatasetX = []\n",
    "newmaleTestDatasetY = []\n",
    "for image,gender in newTestDataset:\n",
    "    if gender==1: continue\n",
    "    newmaleTestDatasetX.append(image)\n",
    "    newmaleTestDatasetY.append(gender)\n"
   ]
  },
  {
   "cell_type": "code",
   "execution_count": 347,
   "id": "e7cf23a1",
   "metadata": {},
   "outputs": [
    {
     "data": {
      "text/plain": [
       "1000"
      ]
     },
     "execution_count": 347,
     "metadata": {},
     "output_type": "execute_result"
    }
   ],
   "source": [
    "len(newmaleTestDatasetX)"
   ]
  },
  {
   "cell_type": "code",
   "execution_count": 348,
   "id": "3cac90c5",
   "metadata": {},
   "outputs": [],
   "source": [
    "newmaleTestDatasetX = np.stack(newmaleTestDatasetX,axis=0)\n",
    "newmaleTestDatasetY = np.stack(newmaleTestDatasetY,axis=0)"
   ]
  },
  {
   "cell_type": "code",
   "execution_count": 349,
   "id": "be311a5e",
   "metadata": {},
   "outputs": [
    {
     "name": "stdout",
     "output_type": "stream",
     "text": [
      "32/32 [==============================] - 2s 60ms/step - loss: 0.4302 - accuracy: 0.8520\n"
     ]
    },
    {
     "data": {
      "text/plain": [
       "[0.43021512031555176, 0.8519999980926514]"
      ]
     },
     "execution_count": 349,
     "metadata": {},
     "output_type": "execute_result"
    }
   ],
   "source": [
    "model.evaluate(newmaleTestDatasetX,newmaleTestDatasetY)"
   ]
  },
  {
   "cell_type": "code",
   "execution_count": 327,
   "id": "5bb11a79",
   "metadata": {},
   "outputs": [],
   "source": []
  },
  {
   "cell_type": "code",
   "execution_count": 328,
   "id": "fd16a497",
   "metadata": {},
   "outputs": [
    {
     "name": "stdout",
     "output_type": "stream",
     "text": [
      "63/63 [==============================] - 2s 37ms/step - loss: 0.3727 - accuracy: 0.8570\n"
     ]
    },
    {
     "data": {
      "text/plain": [
       "[0.3726826310157776, 0.8569999933242798]"
      ]
     },
     "execution_count": 328,
     "metadata": {},
     "output_type": "execute_result"
    }
   ],
   "source": []
  },
  {
   "cell_type": "code",
   "execution_count": null,
   "id": "5313eab7",
   "metadata": {},
   "outputs": [],
   "source": []
  }
 ],
 "metadata": {
  "kernelspec": {
   "display_name": "Python 3 (ipykernel)",
   "language": "python",
   "name": "python3"
  },
  "language_info": {
   "codemirror_mode": {
    "name": "ipython",
    "version": 3
   },
   "file_extension": ".py",
   "mimetype": "text/x-python",
   "name": "python",
   "nbconvert_exporter": "python",
   "pygments_lexer": "ipython3",
   "version": "3.10.2"
  }
 },
 "nbformat": 4,
 "nbformat_minor": 5
}
